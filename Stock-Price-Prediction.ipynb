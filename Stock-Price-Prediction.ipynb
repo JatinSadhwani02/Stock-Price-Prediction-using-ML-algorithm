{
 "cells": [
  {
   "cell_type": "markdown",
   "metadata": {},
   "source": [
    "# Stock Price Prediction using ML Algorithm"
   ]
  },
  {
   "cell_type": "markdown",
   "metadata": {},
   "source": [
    "## Load required libraries and data"
   ]
  },
  {
   "cell_type": "code",
   "execution_count": 1,
   "metadata": {},
   "outputs": [],
   "source": [
    "import pandas as pd\n",
    "import seaborn as sns\n",
    "import matplotlib.pyplot as plt\n",
    "import numpy as np"
   ]
  },
  {
   "cell_type": "code",
   "execution_count": 2,
   "metadata": {},
   "outputs": [
    {
     "data": {
      "text/html": [
       "<div>\n",
       "<style scoped>\n",
       "    .dataframe tbody tr th:only-of-type {\n",
       "        vertical-align: middle;\n",
       "    }\n",
       "\n",
       "    .dataframe tbody tr th {\n",
       "        vertical-align: top;\n",
       "    }\n",
       "\n",
       "    .dataframe thead th {\n",
       "        text-align: right;\n",
       "    }\n",
       "</style>\n",
       "<table border=\"1\" class=\"dataframe\">\n",
       "  <thead>\n",
       "    <tr style=\"text-align: right;\">\n",
       "      <th></th>\n",
       "      <th>Date</th>\n",
       "      <th>Open</th>\n",
       "      <th>High</th>\n",
       "      <th>Low</th>\n",
       "      <th>Close</th>\n",
       "      <th>Volume</th>\n",
       "      <th>Dividend</th>\n",
       "      <th>Split</th>\n",
       "      <th>Adj_Open</th>\n",
       "      <th>Adj_High</th>\n",
       "      <th>Adj_Low</th>\n",
       "      <th>Adj_Close</th>\n",
       "      <th>Adj_Volume</th>\n",
       "    </tr>\n",
       "  </thead>\n",
       "  <tbody>\n",
       "    <tr>\n",
       "      <th>0</th>\n",
       "      <td>2017-12-28</td>\n",
       "      <td>171.00</td>\n",
       "      <td>171.850</td>\n",
       "      <td>170.480</td>\n",
       "      <td>171.08</td>\n",
       "      <td>16480187.0</td>\n",
       "      <td>0.0</td>\n",
       "      <td>1.0</td>\n",
       "      <td>41.075401</td>\n",
       "      <td>41.279577</td>\n",
       "      <td>40.950493</td>\n",
       "      <td>41.094617</td>\n",
       "      <td>65920748.0</td>\n",
       "    </tr>\n",
       "    <tr>\n",
       "      <th>1</th>\n",
       "      <td>2017-12-27</td>\n",
       "      <td>170.10</td>\n",
       "      <td>170.780</td>\n",
       "      <td>169.710</td>\n",
       "      <td>170.60</td>\n",
       "      <td>21498213.0</td>\n",
       "      <td>0.0</td>\n",
       "      <td>1.0</td>\n",
       "      <td>40.859214</td>\n",
       "      <td>41.022555</td>\n",
       "      <td>40.765534</td>\n",
       "      <td>40.979318</td>\n",
       "      <td>85992852.0</td>\n",
       "    </tr>\n",
       "    <tr>\n",
       "      <th>2</th>\n",
       "      <td>2017-12-26</td>\n",
       "      <td>170.80</td>\n",
       "      <td>171.470</td>\n",
       "      <td>169.679</td>\n",
       "      <td>170.57</td>\n",
       "      <td>33185536.0</td>\n",
       "      <td>0.0</td>\n",
       "      <td>1.0</td>\n",
       "      <td>41.027359</td>\n",
       "      <td>41.188298</td>\n",
       "      <td>40.758087</td>\n",
       "      <td>40.972112</td>\n",
       "      <td>132742144.0</td>\n",
       "    </tr>\n",
       "    <tr>\n",
       "      <th>3</th>\n",
       "      <td>2017-12-22</td>\n",
       "      <td>174.68</td>\n",
       "      <td>175.424</td>\n",
       "      <td>174.500</td>\n",
       "      <td>175.01</td>\n",
       "      <td>16349444.0</td>\n",
       "      <td>0.0</td>\n",
       "      <td>1.0</td>\n",
       "      <td>41.959363</td>\n",
       "      <td>42.138077</td>\n",
       "      <td>41.916125</td>\n",
       "      <td>42.038631</td>\n",
       "      <td>65397776.0</td>\n",
       "    </tr>\n",
       "    <tr>\n",
       "      <th>4</th>\n",
       "      <td>2017-12-21</td>\n",
       "      <td>174.17</td>\n",
       "      <td>176.020</td>\n",
       "      <td>174.100</td>\n",
       "      <td>175.01</td>\n",
       "      <td>20949896.0</td>\n",
       "      <td>0.0</td>\n",
       "      <td>1.0</td>\n",
       "      <td>41.836857</td>\n",
       "      <td>42.281240</td>\n",
       "      <td>41.820043</td>\n",
       "      <td>42.038631</td>\n",
       "      <td>83799584.0</td>\n",
       "    </tr>\n",
       "  </tbody>\n",
       "</table>\n",
       "</div>"
      ],
      "text/plain": [
       "         Date    Open     High      Low   Close      Volume  Dividend  Split  \\\n",
       "0  2017-12-28  171.00  171.850  170.480  171.08  16480187.0       0.0    1.0   \n",
       "1  2017-12-27  170.10  170.780  169.710  170.60  21498213.0       0.0    1.0   \n",
       "2  2017-12-26  170.80  171.470  169.679  170.57  33185536.0       0.0    1.0   \n",
       "3  2017-12-22  174.68  175.424  174.500  175.01  16349444.0       0.0    1.0   \n",
       "4  2017-12-21  174.17  176.020  174.100  175.01  20949896.0       0.0    1.0   \n",
       "\n",
       "    Adj_Open   Adj_High    Adj_Low  Adj_Close   Adj_Volume  \n",
       "0  41.075401  41.279577  40.950493  41.094617   65920748.0  \n",
       "1  40.859214  41.022555  40.765534  40.979318   85992852.0  \n",
       "2  41.027359  41.188298  40.758087  40.972112  132742144.0  \n",
       "3  41.959363  42.138077  41.916125  42.038631   65397776.0  \n",
       "4  41.836857  42.281240  41.820043  42.038631   83799584.0  "
      ]
     },
     "execution_count": 2,
     "metadata": {},
     "output_type": "execute_result"
    }
   ],
   "source": [
    "df = pd.read_csv('EOD-AAPL.csv')\n",
    "df.head()"
   ]
  },
  {
   "cell_type": "markdown",
   "metadata": {},
   "source": [
    "## Perform EDA"
   ]
  },
  {
   "cell_type": "code",
   "execution_count": 3,
   "metadata": {},
   "outputs": [
    {
     "data": {
      "text/plain": [
       "Date          0\n",
       "Open          0\n",
       "High          0\n",
       "Low           0\n",
       "Close         0\n",
       "Volume        0\n",
       "Dividend      0\n",
       "Split         0\n",
       "Adj_Open      0\n",
       "Adj_High      0\n",
       "Adj_Low       0\n",
       "Adj_Close     0\n",
       "Adj_Volume    0\n",
       "dtype: int64"
      ]
     },
     "execution_count": 3,
     "metadata": {},
     "output_type": "execute_result"
    }
   ],
   "source": [
    "df.isnull().sum()"
   ]
  },
  {
   "cell_type": "code",
   "execution_count": 4,
   "metadata": {},
   "outputs": [
    {
     "data": {
      "text/plain": [
       "(1090, 13)"
      ]
     },
     "execution_count": 4,
     "metadata": {},
     "output_type": "execute_result"
    }
   ],
   "source": [
    "df.shape"
   ]
  },
  {
   "cell_type": "code",
   "execution_count": 4,
   "metadata": {},
   "outputs": [
    {
     "data": {
      "text/html": [
       "<div>\n",
       "<style scoped>\n",
       "    .dataframe tbody tr th:only-of-type {\n",
       "        vertical-align: middle;\n",
       "    }\n",
       "\n",
       "    .dataframe tbody tr th {\n",
       "        vertical-align: top;\n",
       "    }\n",
       "\n",
       "    .dataframe thead th {\n",
       "        text-align: right;\n",
       "    }\n",
       "</style>\n",
       "<table border=\"1\" class=\"dataframe\">\n",
       "  <thead>\n",
       "    <tr style=\"text-align: right;\">\n",
       "      <th></th>\n",
       "      <th>Open</th>\n",
       "      <th>High</th>\n",
       "      <th>Low</th>\n",
       "      <th>Close</th>\n",
       "      <th>Volume</th>\n",
       "      <th>Dividend</th>\n",
       "      <th>Split</th>\n",
       "      <th>Adj_Open</th>\n",
       "      <th>Adj_High</th>\n",
       "      <th>Adj_Low</th>\n",
       "      <th>Adj_Close</th>\n",
       "      <th>Adj_Volume</th>\n",
       "    </tr>\n",
       "  </thead>\n",
       "  <tbody>\n",
       "    <tr>\n",
       "      <th>Open</th>\n",
       "      <td>1.000000</td>\n",
       "      <td>0.999948</td>\n",
       "      <td>0.999935</td>\n",
       "      <td>0.999866</td>\n",
       "      <td>-0.547597</td>\n",
       "      <td>0.088894</td>\n",
       "      <td>-0.019234</td>\n",
       "      <td>-0.534445</td>\n",
       "      <td>-0.537418</td>\n",
       "      <td>-0.531829</td>\n",
       "      <td>-0.534399</td>\n",
       "      <td>0.502054</td>\n",
       "    </tr>\n",
       "    <tr>\n",
       "      <th>High</th>\n",
       "      <td>0.999948</td>\n",
       "      <td>1.000000</td>\n",
       "      <td>0.999941</td>\n",
       "      <td>0.999944</td>\n",
       "      <td>-0.545893</td>\n",
       "      <td>0.088582</td>\n",
       "      <td>-0.019154</td>\n",
       "      <td>-0.535283</td>\n",
       "      <td>-0.538038</td>\n",
       "      <td>-0.532575</td>\n",
       "      <td>-0.534990</td>\n",
       "      <td>0.504125</td>\n",
       "    </tr>\n",
       "    <tr>\n",
       "      <th>Low</th>\n",
       "      <td>0.999935</td>\n",
       "      <td>0.999941</td>\n",
       "      <td>1.000000</td>\n",
       "      <td>0.999949</td>\n",
       "      <td>-0.550156</td>\n",
       "      <td>0.089065</td>\n",
       "      <td>-0.019259</td>\n",
       "      <td>-0.533844</td>\n",
       "      <td>-0.536724</td>\n",
       "      <td>-0.530960</td>\n",
       "      <td>-0.533517</td>\n",
       "      <td>0.498174</td>\n",
       "    </tr>\n",
       "    <tr>\n",
       "      <th>Close</th>\n",
       "      <td>0.999866</td>\n",
       "      <td>0.999944</td>\n",
       "      <td>0.999949</td>\n",
       "      <td>1.000000</td>\n",
       "      <td>-0.548315</td>\n",
       "      <td>0.088610</td>\n",
       "      <td>-0.019044</td>\n",
       "      <td>-0.534448</td>\n",
       "      <td>-0.537173</td>\n",
       "      <td>-0.531552</td>\n",
       "      <td>-0.533903</td>\n",
       "      <td>0.500617</td>\n",
       "    </tr>\n",
       "    <tr>\n",
       "      <th>Volume</th>\n",
       "      <td>-0.547597</td>\n",
       "      <td>-0.545893</td>\n",
       "      <td>-0.550156</td>\n",
       "      <td>-0.548315</td>\n",
       "      <td>1.000000</td>\n",
       "      <td>-0.061064</td>\n",
       "      <td>0.054382</td>\n",
       "      <td>0.085888</td>\n",
       "      <td>0.095572</td>\n",
       "      <td>0.071723</td>\n",
       "      <td>0.081938</td>\n",
       "      <td>0.337092</td>\n",
       "    </tr>\n",
       "    <tr>\n",
       "      <th>Dividend</th>\n",
       "      <td>0.088894</td>\n",
       "      <td>0.088582</td>\n",
       "      <td>0.089065</td>\n",
       "      <td>0.088610</td>\n",
       "      <td>-0.061064</td>\n",
       "      <td>1.000000</td>\n",
       "      <td>-0.002708</td>\n",
       "      <td>-0.050353</td>\n",
       "      <td>-0.051215</td>\n",
       "      <td>-0.050306</td>\n",
       "      <td>-0.051095</td>\n",
       "      <td>0.002395</td>\n",
       "    </tr>\n",
       "    <tr>\n",
       "      <th>Split</th>\n",
       "      <td>-0.019234</td>\n",
       "      <td>-0.019154</td>\n",
       "      <td>-0.019259</td>\n",
       "      <td>-0.019044</td>\n",
       "      <td>0.054382</td>\n",
       "      <td>-0.002708</td>\n",
       "      <td>1.000000</td>\n",
       "      <td>-0.024993</td>\n",
       "      <td>-0.024640</td>\n",
       "      <td>-0.025124</td>\n",
       "      <td>-0.023978</td>\n",
       "      <td>0.029564</td>\n",
       "    </tr>\n",
       "    <tr>\n",
       "      <th>Adj_Open</th>\n",
       "      <td>-0.534445</td>\n",
       "      <td>-0.535283</td>\n",
       "      <td>-0.533844</td>\n",
       "      <td>-0.534448</td>\n",
       "      <td>0.085888</td>\n",
       "      <td>-0.050353</td>\n",
       "      <td>-0.024993</td>\n",
       "      <td>1.000000</td>\n",
       "      <td>0.999528</td>\n",
       "      <td>0.999416</td>\n",
       "      <td>0.998987</td>\n",
       "      <td>-0.549990</td>\n",
       "    </tr>\n",
       "    <tr>\n",
       "      <th>Adj_High</th>\n",
       "      <td>-0.537418</td>\n",
       "      <td>-0.538038</td>\n",
       "      <td>-0.536724</td>\n",
       "      <td>-0.537173</td>\n",
       "      <td>0.095572</td>\n",
       "      <td>-0.051215</td>\n",
       "      <td>-0.024640</td>\n",
       "      <td>0.999528</td>\n",
       "      <td>1.000000</td>\n",
       "      <td>0.999278</td>\n",
       "      <td>0.999526</td>\n",
       "      <td>-0.544404</td>\n",
       "    </tr>\n",
       "    <tr>\n",
       "      <th>Adj_Low</th>\n",
       "      <td>-0.531829</td>\n",
       "      <td>-0.532575</td>\n",
       "      <td>-0.530960</td>\n",
       "      <td>-0.531552</td>\n",
       "      <td>0.071723</td>\n",
       "      <td>-0.050306</td>\n",
       "      <td>-0.025124</td>\n",
       "      <td>0.999416</td>\n",
       "      <td>0.999278</td>\n",
       "      <td>1.000000</td>\n",
       "      <td>0.999558</td>\n",
       "      <td>-0.560073</td>\n",
       "    </tr>\n",
       "    <tr>\n",
       "      <th>Adj_Close</th>\n",
       "      <td>-0.534399</td>\n",
       "      <td>-0.534990</td>\n",
       "      <td>-0.533517</td>\n",
       "      <td>-0.533903</td>\n",
       "      <td>0.081938</td>\n",
       "      <td>-0.051095</td>\n",
       "      <td>-0.023978</td>\n",
       "      <td>0.998987</td>\n",
       "      <td>0.999526</td>\n",
       "      <td>0.999558</td>\n",
       "      <td>1.000000</td>\n",
       "      <td>-0.553474</td>\n",
       "    </tr>\n",
       "    <tr>\n",
       "      <th>Adj_Volume</th>\n",
       "      <td>0.502054</td>\n",
       "      <td>0.504125</td>\n",
       "      <td>0.498174</td>\n",
       "      <td>0.500617</td>\n",
       "      <td>0.337092</td>\n",
       "      <td>0.002395</td>\n",
       "      <td>0.029564</td>\n",
       "      <td>-0.549990</td>\n",
       "      <td>-0.544404</td>\n",
       "      <td>-0.560073</td>\n",
       "      <td>-0.553474</td>\n",
       "      <td>1.000000</td>\n",
       "    </tr>\n",
       "  </tbody>\n",
       "</table>\n",
       "</div>"
      ],
      "text/plain": [
       "                Open      High       Low     Close    Volume  Dividend  \\\n",
       "Open        1.000000  0.999948  0.999935  0.999866 -0.547597  0.088894   \n",
       "High        0.999948  1.000000  0.999941  0.999944 -0.545893  0.088582   \n",
       "Low         0.999935  0.999941  1.000000  0.999949 -0.550156  0.089065   \n",
       "Close       0.999866  0.999944  0.999949  1.000000 -0.548315  0.088610   \n",
       "Volume     -0.547597 -0.545893 -0.550156 -0.548315  1.000000 -0.061064   \n",
       "Dividend    0.088894  0.088582  0.089065  0.088610 -0.061064  1.000000   \n",
       "Split      -0.019234 -0.019154 -0.019259 -0.019044  0.054382 -0.002708   \n",
       "Adj_Open   -0.534445 -0.535283 -0.533844 -0.534448  0.085888 -0.050353   \n",
       "Adj_High   -0.537418 -0.538038 -0.536724 -0.537173  0.095572 -0.051215   \n",
       "Adj_Low    -0.531829 -0.532575 -0.530960 -0.531552  0.071723 -0.050306   \n",
       "Adj_Close  -0.534399 -0.534990 -0.533517 -0.533903  0.081938 -0.051095   \n",
       "Adj_Volume  0.502054  0.504125  0.498174  0.500617  0.337092  0.002395   \n",
       "\n",
       "               Split  Adj_Open  Adj_High   Adj_Low  Adj_Close  Adj_Volume  \n",
       "Open       -0.019234 -0.534445 -0.537418 -0.531829  -0.534399    0.502054  \n",
       "High       -0.019154 -0.535283 -0.538038 -0.532575  -0.534990    0.504125  \n",
       "Low        -0.019259 -0.533844 -0.536724 -0.530960  -0.533517    0.498174  \n",
       "Close      -0.019044 -0.534448 -0.537173 -0.531552  -0.533903    0.500617  \n",
       "Volume      0.054382  0.085888  0.095572  0.071723   0.081938    0.337092  \n",
       "Dividend   -0.002708 -0.050353 -0.051215 -0.050306  -0.051095    0.002395  \n",
       "Split       1.000000 -0.024993 -0.024640 -0.025124  -0.023978    0.029564  \n",
       "Adj_Open   -0.024993  1.000000  0.999528  0.999416   0.998987   -0.549990  \n",
       "Adj_High   -0.024640  0.999528  1.000000  0.999278   0.999526   -0.544404  \n",
       "Adj_Low    -0.025124  0.999416  0.999278  1.000000   0.999558   -0.560073  \n",
       "Adj_Close  -0.023978  0.998987  0.999526  0.999558   1.000000   -0.553474  \n",
       "Adj_Volume  0.029564 -0.549990 -0.544404 -0.560073  -0.553474    1.000000  "
      ]
     },
     "execution_count": 4,
     "metadata": {},
     "output_type": "execute_result"
    }
   ],
   "source": [
    "df.corr()"
   ]
  },
  {
   "cell_type": "code",
   "execution_count": 5,
   "metadata": {},
   "outputs": [
    {
     "data": {
      "image/png": "[encoded data removed]",
      "text/plain": [
       "<Figure size 1440x1440 with 2 Axes>"
      ]
     },
     "metadata": {
      "needs_background": "light"
     },
     "output_type": "display_data"
    }
   ],
   "source": [
    "plt.figure(figsize=(20,20))\n",
    "sns.heatmap(df.corr() ,annot=True , cmap=plt.cm.Accent)\n",
    "plt.show()"
   ]
  },
  {
   "cell_type": "code",
   "execution_count": 6,
   "metadata": {},
   "outputs": [
    {
     "data": {
      "text/plain": [
       "array([[<matplotlib.axes._subplots.AxesSubplot object at 0x0000020EA9558DA0>,\n",
       "        <matplotlib.axes._subplots.AxesSubplot object at 0x0000020EA957F1D0>,\n",
       "        <matplotlib.axes._subplots.AxesSubplot object at 0x0000020EA95E5748>],\n",
       "       [<matplotlib.axes._subplots.AxesSubplot object at 0x0000020EA960DCC0>,\n",
       "        <matplotlib.axes._subplots.AxesSubplot object at 0x0000020EA963E278>,\n",
       "        <matplotlib.axes._subplots.AxesSubplot object at 0x0000020EA96A57F0>],\n",
       "       [<matplotlib.axes._subplots.AxesSubplot object at 0x0000020EA96CCD68>,\n",
       "        <matplotlib.axes._subplots.AxesSubplot object at 0x0000020EA973B358>,\n",
       "        <matplotlib.axes._subplots.AxesSubplot object at 0x0000020EA973B390>],\n",
       "       [<matplotlib.axes._subplots.AxesSubplot object at 0x0000020EA978BE10>,\n",
       "        <matplotlib.axes._subplots.AxesSubplot object at 0x0000020EA97BB3C8>,\n",
       "        <matplotlib.axes._subplots.AxesSubplot object at 0x0000020EA97E3940>]],\n",
       "      dtype=object)"
      ]
     },
     "execution_count": 6,
     "metadata": {},
     "output_type": "execute_result"
    },
    {
     "data": {
      "image/png": "[encoded data removed]",
      "text/plain": [
       "<Figure size 2088x2088 with 12 Axes>"
      ]
     },
     "metadata": {
      "needs_background": "light"
     },
     "output_type": "display_data"
    }
   ],
   "source": [
    "df.hist(figsize=(29,29))"
   ]
  },
  {
   "cell_type": "code",
   "execution_count": 13,
   "metadata": {},
   "outputs": [],
   "source": [
    "df['HL_PCT']=(df['Adj_High']-df['Adj_Low'])/df['Adj_Close']*100.0\n",
    "df['PCT_change']=(df['Adj_Close']-df['Adj_Open'])/df['Adj_Open']*100.0"
   ]
  },
  {
   "cell_type": "code",
   "execution_count": 14,
   "metadata": {},
   "outputs": [
    {
     "data": {
      "text/html": [
       "<div>\n",
       "<style scoped>\n",
       "    .dataframe tbody tr th:only-of-type {\n",
       "        vertical-align: middle;\n",
       "    }\n",
       "\n",
       "    .dataframe tbody tr th {\n",
       "        vertical-align: top;\n",
       "    }\n",
       "\n",
       "    .dataframe thead th {\n",
       "        text-align: right;\n",
       "    }\n",
       "</style>\n",
       "<table border=\"1\" class=\"dataframe\">\n",
       "  <thead>\n",
       "    <tr style=\"text-align: right;\">\n",
       "      <th></th>\n",
       "      <th>Date</th>\n",
       "      <th>Open</th>\n",
       "      <th>High</th>\n",
       "      <th>Low</th>\n",
       "      <th>Close</th>\n",
       "      <th>Volume</th>\n",
       "      <th>Dividend</th>\n",
       "      <th>Split</th>\n",
       "      <th>Adj_Open</th>\n",
       "      <th>Adj_High</th>\n",
       "      <th>Adj_Low</th>\n",
       "      <th>Adj_Close</th>\n",
       "      <th>Adj_Volume</th>\n",
       "      <th>HL_PCT</th>\n",
       "      <th>PCT_change</th>\n",
       "    </tr>\n",
       "  </thead>\n",
       "  <tbody>\n",
       "    <tr>\n",
       "      <th>0</th>\n",
       "      <td>2017-12-28</td>\n",
       "      <td>171.00</td>\n",
       "      <td>171.850</td>\n",
       "      <td>170.480</td>\n",
       "      <td>171.08</td>\n",
       "      <td>16480187.0</td>\n",
       "      <td>0.0</td>\n",
       "      <td>1.0</td>\n",
       "      <td>41.075401</td>\n",
       "      <td>41.279577</td>\n",
       "      <td>40.950493</td>\n",
       "      <td>41.094617</td>\n",
       "      <td>65920748.0</td>\n",
       "      <td>0.800795</td>\n",
       "      <td>0.046784</td>\n",
       "    </tr>\n",
       "    <tr>\n",
       "      <th>1</th>\n",
       "      <td>2017-12-27</td>\n",
       "      <td>170.10</td>\n",
       "      <td>170.780</td>\n",
       "      <td>169.710</td>\n",
       "      <td>170.60</td>\n",
       "      <td>21498213.0</td>\n",
       "      <td>0.0</td>\n",
       "      <td>1.0</td>\n",
       "      <td>40.859214</td>\n",
       "      <td>41.022555</td>\n",
       "      <td>40.765534</td>\n",
       "      <td>40.979318</td>\n",
       "      <td>85992852.0</td>\n",
       "      <td>0.627198</td>\n",
       "      <td>0.293945</td>\n",
       "    </tr>\n",
       "    <tr>\n",
       "      <th>2</th>\n",
       "      <td>2017-12-26</td>\n",
       "      <td>170.80</td>\n",
       "      <td>171.470</td>\n",
       "      <td>169.679</td>\n",
       "      <td>170.57</td>\n",
       "      <td>33185536.0</td>\n",
       "      <td>0.0</td>\n",
       "      <td>1.0</td>\n",
       "      <td>41.027359</td>\n",
       "      <td>41.188298</td>\n",
       "      <td>40.758087</td>\n",
       "      <td>40.972112</td>\n",
       "      <td>132742144.0</td>\n",
       "      <td>1.050009</td>\n",
       "      <td>-0.134660</td>\n",
       "    </tr>\n",
       "    <tr>\n",
       "      <th>3</th>\n",
       "      <td>2017-12-22</td>\n",
       "      <td>174.68</td>\n",
       "      <td>175.424</td>\n",
       "      <td>174.500</td>\n",
       "      <td>175.01</td>\n",
       "      <td>16349444.0</td>\n",
       "      <td>0.0</td>\n",
       "      <td>1.0</td>\n",
       "      <td>41.959363</td>\n",
       "      <td>42.138077</td>\n",
       "      <td>41.916125</td>\n",
       "      <td>42.038631</td>\n",
       "      <td>65397776.0</td>\n",
       "      <td>0.527970</td>\n",
       "      <td>0.188917</td>\n",
       "    </tr>\n",
       "    <tr>\n",
       "      <th>4</th>\n",
       "      <td>2017-12-21</td>\n",
       "      <td>174.17</td>\n",
       "      <td>176.020</td>\n",
       "      <td>174.100</td>\n",
       "      <td>175.01</td>\n",
       "      <td>20949896.0</td>\n",
       "      <td>0.0</td>\n",
       "      <td>1.0</td>\n",
       "      <td>41.836857</td>\n",
       "      <td>42.281240</td>\n",
       "      <td>41.820043</td>\n",
       "      <td>42.038631</td>\n",
       "      <td>83799584.0</td>\n",
       "      <td>1.097080</td>\n",
       "      <td>0.482287</td>\n",
       "    </tr>\n",
       "  </tbody>\n",
       "</table>\n",
       "</div>"
      ],
      "text/plain": [
       "         Date    Open     High      Low   Close      Volume  Dividend  Split  \\\n",
       "0  2017-12-28  171.00  171.850  170.480  171.08  16480187.0       0.0    1.0   \n",
       "1  2017-12-27  170.10  170.780  169.710  170.60  21498213.0       0.0    1.0   \n",
       "2  2017-12-26  170.80  171.470  169.679  170.57  33185536.0       0.0    1.0   \n",
       "3  2017-12-22  174.68  175.424  174.500  175.01  16349444.0       0.0    1.0   \n",
       "4  2017-12-21  174.17  176.020  174.100  175.01  20949896.0       0.0    1.0   \n",
       "\n",
       "    Adj_Open   Adj_High    Adj_Low  Adj_Close   Adj_Volume    HL_PCT  \\\n",
       "0  41.075401  41.279577  40.950493  41.094617   65920748.0  0.800795   \n",
       "1  40.859214  41.022555  40.765534  40.979318   85992852.0  0.627198   \n",
       "2  41.027359  41.188298  40.758087  40.972112  132742144.0  1.050009   \n",
       "3  41.959363  42.138077  41.916125  42.038631   65397776.0  0.527970   \n",
       "4  41.836857  42.281240  41.820043  42.038631   83799584.0  1.097080   \n",
       "\n",
       "   PCT_change  \n",
       "0    0.046784  \n",
       "1    0.293945  \n",
       "2   -0.134660  \n",
       "3    0.188917  \n",
       "4    0.482287  "
      ]
     },
     "execution_count": 14,
     "metadata": {},
     "output_type": "execute_result"
    }
   ],
   "source": [
    "df.head()"
   ]
  },
  {
   "cell_type": "code",
   "execution_count": 15,
   "metadata": {},
   "outputs": [],
   "source": [
    "df1 = df[['Adj_Close' ,'Dividend', 'Adj_Volume' ,'HL_PCT' , 'PCT_change' ]]"
   ]
  },
  {
   "cell_type": "code",
   "execution_count": 16,
   "metadata": {},
   "outputs": [
    {
     "data": {
      "text/html": [
       "<div>\n",
       "<style scoped>\n",
       "    .dataframe tbody tr th:only-of-type {\n",
       "        vertical-align: middle;\n",
       "    }\n",
       "\n",
       "    .dataframe tbody tr th {\n",
       "        vertical-align: top;\n",
       "    }\n",
       "\n",
       "    .dataframe thead th {\n",
       "        text-align: right;\n",
       "    }\n",
       "</style>\n",
       "<table border=\"1\" class=\"dataframe\">\n",
       "  <thead>\n",
       "    <tr style=\"text-align: right;\">\n",
       "      <th></th>\n",
       "      <th>Adj_Close</th>\n",
       "      <th>Dividend</th>\n",
       "      <th>Adj_Volume</th>\n",
       "      <th>HL_PCT</th>\n",
       "      <th>PCT_change</th>\n",
       "    </tr>\n",
       "  </thead>\n",
       "  <tbody>\n",
       "    <tr>\n",
       "      <th>0</th>\n",
       "      <td>41.094617</td>\n",
       "      <td>0.0</td>\n",
       "      <td>65920748.0</td>\n",
       "      <td>0.800795</td>\n",
       "      <td>0.046784</td>\n",
       "    </tr>\n",
       "    <tr>\n",
       "      <th>1</th>\n",
       "      <td>40.979318</td>\n",
       "      <td>0.0</td>\n",
       "      <td>85992852.0</td>\n",
       "      <td>0.627198</td>\n",
       "      <td>0.293945</td>\n",
       "    </tr>\n",
       "    <tr>\n",
       "      <th>2</th>\n",
       "      <td>40.972112</td>\n",
       "      <td>0.0</td>\n",
       "      <td>132742144.0</td>\n",
       "      <td>1.050009</td>\n",
       "      <td>-0.134660</td>\n",
       "    </tr>\n",
       "    <tr>\n",
       "      <th>3</th>\n",
       "      <td>42.038631</td>\n",
       "      <td>0.0</td>\n",
       "      <td>65397776.0</td>\n",
       "      <td>0.527970</td>\n",
       "      <td>0.188917</td>\n",
       "    </tr>\n",
       "    <tr>\n",
       "      <th>4</th>\n",
       "      <td>42.038631</td>\n",
       "      <td>0.0</td>\n",
       "      <td>83799584.0</td>\n",
       "      <td>1.097080</td>\n",
       "      <td>0.482287</td>\n",
       "    </tr>\n",
       "  </tbody>\n",
       "</table>\n",
       "</div>"
      ],
      "text/plain": [
       "   Adj_Close  Dividend   Adj_Volume    HL_PCT  PCT_change\n",
       "0  41.094617       0.0   65920748.0  0.800795    0.046784\n",
       "1  40.979318       0.0   85992852.0  0.627198    0.293945\n",
       "2  40.972112       0.0  132742144.0  1.050009   -0.134660\n",
       "3  42.038631       0.0   65397776.0  0.527970    0.188917\n",
       "4  42.038631       0.0   83799584.0  1.097080    0.482287"
      ]
     },
     "execution_count": 16,
     "metadata": {},
     "output_type": "execute_result"
    }
   ],
   "source": [
    "df1.head()"
   ]
  },
  {
   "cell_type": "code",
   "execution_count": 17,
   "metadata": {},
   "outputs": [
    {
     "data": {
      "text/plain": [
       "Adj_Close     0\n",
       "Dividend      0\n",
       "Adj_Volume    0\n",
       "HL_PCT        0\n",
       "PCT_change    0\n",
       "dtype: int64"
      ]
     },
     "execution_count": 17,
     "metadata": {},
     "output_type": "execute_result"
    }
   ],
   "source": [
    "df1.isnull().sum()"
   ]
  },
  {
   "cell_type": "markdown",
   "metadata": {},
   "source": [
    "## Divide data into dependent and independent features"
   ]
  },
  {
   "cell_type": "code",
   "execution_count": 20,
   "metadata": {},
   "outputs": [],
   "source": [
    "X = df1.drop('Adj_Close',axis=1)\n",
    "y = df1['Adj_Close']"
   ]
  },
  {
   "cell_type": "code",
   "execution_count": 21,
   "metadata": {},
   "outputs": [
    {
     "data": {
      "text/html": [
       "<div>\n",
       "<style scoped>\n",
       "    .dataframe tbody tr th:only-of-type {\n",
       "        vertical-align: middle;\n",
       "    }\n",
       "\n",
       "    .dataframe tbody tr th {\n",
       "        vertical-align: top;\n",
       "    }\n",
       "\n",
       "    .dataframe thead th {\n",
       "        text-align: right;\n",
       "    }\n",
       "</style>\n",
       "<table border=\"1\" class=\"dataframe\">\n",
       "  <thead>\n",
       "    <tr style=\"text-align: right;\">\n",
       "      <th></th>\n",
       "      <th>Dividend</th>\n",
       "      <th>Adj_Volume</th>\n",
       "      <th>HL_PCT</th>\n",
       "      <th>PCT_change</th>\n",
       "    </tr>\n",
       "  </thead>\n",
       "  <tbody>\n",
       "    <tr>\n",
       "      <th>0</th>\n",
       "      <td>0.0</td>\n",
       "      <td>65920748.0</td>\n",
       "      <td>0.800795</td>\n",
       "      <td>0.046784</td>\n",
       "    </tr>\n",
       "    <tr>\n",
       "      <th>1</th>\n",
       "      <td>0.0</td>\n",
       "      <td>85992852.0</td>\n",
       "      <td>0.627198</td>\n",
       "      <td>0.293945</td>\n",
       "    </tr>\n",
       "    <tr>\n",
       "      <th>2</th>\n",
       "      <td>0.0</td>\n",
       "      <td>132742144.0</td>\n",
       "      <td>1.050009</td>\n",
       "      <td>-0.134660</td>\n",
       "    </tr>\n",
       "    <tr>\n",
       "      <th>3</th>\n",
       "      <td>0.0</td>\n",
       "      <td>65397776.0</td>\n",
       "      <td>0.527970</td>\n",
       "      <td>0.188917</td>\n",
       "    </tr>\n",
       "    <tr>\n",
       "      <th>4</th>\n",
       "      <td>0.0</td>\n",
       "      <td>83799584.0</td>\n",
       "      <td>1.097080</td>\n",
       "      <td>0.482287</td>\n",
       "    </tr>\n",
       "  </tbody>\n",
       "</table>\n",
       "</div>"
      ],
      "text/plain": [
       "   Dividend   Adj_Volume    HL_PCT  PCT_change\n",
       "0       0.0   65920748.0  0.800795    0.046784\n",
       "1       0.0   85992852.0  0.627198    0.293945\n",
       "2       0.0  132742144.0  1.050009   -0.134660\n",
       "3       0.0   65397776.0  0.527970    0.188917\n",
       "4       0.0   83799584.0  1.097080    0.482287"
      ]
     },
     "execution_count": 21,
     "metadata": {},
     "output_type": "execute_result"
    }
   ],
   "source": [
    "X.head()"
   ]
  },
  {
   "cell_type": "code",
   "execution_count": 22,
   "metadata": {},
   "outputs": [
    {
     "data": {
      "text/plain": [
       "0    41.094617\n",
       "1    40.979318\n",
       "2    40.972112\n",
       "3    42.038631\n",
       "4    42.038631\n",
       "Name: Adj_Close, dtype: float64"
      ]
     },
     "execution_count": 22,
     "metadata": {},
     "output_type": "execute_result"
    }
   ],
   "source": [
    "y.head()"
   ]
  },
  {
   "cell_type": "markdown",
   "metadata": {},
   "source": [
    "## Split data into train and test"
   ]
  },
  {
   "cell_type": "code",
   "execution_count": 23,
   "metadata": {},
   "outputs": [],
   "source": [
    "from sklearn.model_selection import train_test_split"
   ]
  },
  {
   "cell_type": "code",
   "execution_count": 24,
   "metadata": {},
   "outputs": [],
   "source": [
    "X_train , X_test , y_train , y_test = train_test_split(X,y,test_size=0.2,random_state=51)"
   ]
  },
  {
   "cell_type": "code",
   "execution_count": 25,
   "metadata": {},
   "outputs": [
    {
     "data": {
      "text/plain": [
       "((872, 4), (872,), (218, 4), (218,))"
      ]
     },
     "execution_count": 25,
     "metadata": {},
     "output_type": "execute_result"
    }
   ],
   "source": [
    "X_train.shape , y_train.shape , X_test.shape , y_test.shape"
   ]
  },
  {
   "cell_type": "markdown",
   "metadata": {},
   "source": [
    "## Apply Normalization and train the model using LinearRegression"
   ]
  },
  {
   "cell_type": "code",
   "execution_count": 26,
   "metadata": {},
   "outputs": [],
   "source": [
    "from sklearn.linear_model import LinearRegression\n",
    "from sklearn.preprocessing import StandardScaler"
   ]
  },
  {
   "cell_type": "code",
   "execution_count": 27,
   "metadata": {},
   "outputs": [],
   "source": [
    "sc = StandardScaler()"
   ]
  },
  {
   "cell_type": "code",
   "execution_count": 28,
   "metadata": {},
   "outputs": [],
   "source": [
    "X_train = sc.fit_transform(X_train)\n",
    "X_test = sc.transform(X_test)"
   ]
  },
  {
   "cell_type": "code",
   "execution_count": 29,
   "metadata": {},
   "outputs": [],
   "source": [
    "lr = LinearRegression(normalize=True)"
   ]
  },
  {
   "cell_type": "code",
   "execution_count": 30,
   "metadata": {
    "scrolled": true
   },
   "outputs": [
    {
     "data": {
      "text/plain": [
       "LinearRegression(normalize=True)"
      ]
     },
     "execution_count": 30,
     "metadata": {},
     "output_type": "execute_result"
    }
   ],
   "source": [
    "lr.fit(X_train,y_train)"
   ]
  },
  {
   "cell_type": "markdown",
   "metadata": {
    "scrolled": true
   },
   "source": [
    "## Test the model with test data and evaluate the model"
   ]
  },
  {
   "cell_type": "code",
   "execution_count": 32,
   "metadata": {},
   "outputs": [],
   "source": [
    "# line=lr.coef_*X_train+lr.intercept_\n",
    "pred = lr.predict(X_test)"
   ]
  },
  {
   "cell_type": "code",
   "execution_count": 33,
   "metadata": {
    "scrolled": true
   },
   "outputs": [
    {
     "data": {
      "text/plain": [
       "array([22.03924574, 26.85887566, 24.73934236, 24.69569296, 24.62795806,\n",
       "       18.4296952 , 22.90082658, 29.30451409, 27.44536943, 29.853765  ,\n",
       "       28.52691103, 26.14274972, 28.72954431, 22.19162156, 29.18428611,\n",
       "       28.96348254, 27.20364975, 25.05080444, 26.24754021, 30.10731089,\n",
       "       29.49744846, 29.33927176, 28.87256764, 29.82583667, 29.77011725,\n",
       "       25.89630464, 20.46233661, 28.22299789, 29.28410408, 24.7531051 ,\n",
       "       20.44879711, 29.08104337, 29.03927454, 28.03818108, 28.15109095,\n",
       "       28.60831537, 22.13325445, 26.7184632 , 25.82830597, 22.39520107,\n",
       "       29.42561076, 30.1205115 , 23.81024938, 28.09541871, 26.21320272,\n",
       "       28.04034263, 29.59237888, 24.83299289, 28.69255161, 23.46786268,\n",
       "       24.42221739, 26.2646738 , 27.98200954, 18.92539482, 29.75852466,\n",
       "       27.66812022, 30.41667557, 29.33562327, 19.94378065, 19.89321241,\n",
       "       28.64547381, 26.52450351, 18.39673954, 26.62584835, 28.63078448,\n",
       "       22.80441196, 30.71902334, 30.01040425, 28.28791489, 24.96299548,\n",
       "       21.51755464, 29.89144858, 29.45870737, 22.69143597, 29.27824856,\n",
       "       26.38638277, 26.75324342, 29.7784771 , 26.9730717 , 27.31613073,\n",
       "       29.10665201,  5.94906687, 28.55669669, 27.55508001, 21.08157575,\n",
       "       30.23798958, 33.56954596,  7.70441138, 23.38762545, 18.83654267,\n",
       "       28.57334214, 29.77206257, 16.03831399, 23.35050555, 26.39452365,\n",
       "       30.24544872, 27.16274047, 29.95701363, 27.70135022, 22.38472337,\n",
       "       28.95116808, 23.62329059, 28.90949173, 28.39983879, 27.36788408,\n",
       "       29.21438701, 26.4026028 , 27.08844304, 27.09229128, 28.10246406,\n",
       "       29.25236223, 27.92933335, 24.70871622, 29.1047529 , 29.23944162,\n",
       "       29.56600776, 28.81309051, 27.7388807 , 22.78658678, 29.28708998,\n",
       "       25.59838299, 21.65173771, 25.1635019 , 25.28330725, 24.4214203 ,\n",
       "       26.11945275, 30.02826531, 24.78743109, 29.3067846 , 26.52542994,\n",
       "       29.25179277, 28.72312781, 27.90869609, 26.47562706, 28.93036616,\n",
       "       24.51638559, 25.55398944, 29.06507093, 30.79698441, 28.7370164 ,\n",
       "       31.00914885, 22.40551461, 28.62234915, 29.68034627, 29.14234143,\n",
       "       29.3293511 , 26.80070339, 28.95176705, 28.77901498, 26.42693214,\n",
       "       26.55848967, 29.51647738, 30.28436669, 29.00434724, 21.39953162,\n",
       "       11.22892577, 22.26940896, 26.78863518, 27.74793486, 29.64251115,\n",
       "       29.25649525, 29.16352256, 29.06369854, 17.03070066, 16.64615953,\n",
       "       18.65405256, 27.09241787, 29.54902463, 30.28096489, 28.41932073,\n",
       "       30.36465136, 27.76046895, 27.20750764, 29.43164062, 26.38601323,\n",
       "       26.73232451, 26.70963078, 25.20329566, 28.73469874, 29.54732532,\n",
       "       23.522603  , 28.39954359, 24.58109314, 30.18584258, 29.82233717,\n",
       "       28.40224521, 29.77007364, 26.17406494, 27.16308829, 30.47769384,\n",
       "       27.6235125 , 29.61694537, 26.12315285, 25.725463  , 27.8854188 ,\n",
       "       26.64047476, 29.11737609, 27.53450651, 29.06488674, 28.65505804,\n",
       "       23.49582707, 22.47671305, 26.61409238, 28.52647813, 24.40479821,\n",
       "       30.200045  , 27.94497728, 27.83613738, 27.2669886 , 30.14574502,\n",
       "       27.02524529, 29.52808552, 29.21170741, 28.57794173, 22.60929681,\n",
       "       28.93261946, 24.89357373, 29.06822729])"
      ]
     },
     "execution_count": 33,
     "metadata": {},
     "output_type": "execute_result"
    }
   ],
   "source": [
    "pred"
   ]
  },
  {
   "cell_type": "code",
   "execution_count": 34,
   "metadata": {
    "scrolled": true
   },
   "outputs": [
    {
     "data": {
      "text/plain": [
       "811     22.870823\n",
       "584     25.412890\n",
       "947     17.200624\n",
       "780     26.482700\n",
       "1006    17.848409\n",
       "          ...    \n",
       "233     28.825131\n",
       "847     22.759887\n",
       "298     27.420512\n",
       "857     21.428471\n",
       "519     27.351298\n",
       "Name: Adj_Close, Length: 218, dtype: float64"
      ]
     },
     "execution_count": 34,
     "metadata": {},
     "output_type": "execute_result"
    }
   ],
   "source": [
    "y_test"
   ]
  },
  {
   "cell_type": "code",
   "execution_count": 35,
   "metadata": {
    "scrolled": true
   },
   "outputs": [
    {
     "data": {
      "text/html": [
       "<div>\n",
       "<style scoped>\n",
       "    .dataframe tbody tr th:only-of-type {\n",
       "        vertical-align: middle;\n",
       "    }\n",
       "\n",
       "    .dataframe tbody tr th {\n",
       "        vertical-align: top;\n",
       "    }\n",
       "\n",
       "    .dataframe thead th {\n",
       "        text-align: right;\n",
       "    }\n",
       "</style>\n",
       "<table border=\"1\" class=\"dataframe\">\n",
       "  <thead>\n",
       "    <tr style=\"text-align: right;\">\n",
       "      <th></th>\n",
       "      <th>Actual</th>\n",
       "      <th>Predicted</th>\n",
       "    </tr>\n",
       "  </thead>\n",
       "  <tbody>\n",
       "    <tr>\n",
       "      <th>811</th>\n",
       "      <td>22.870823</td>\n",
       "      <td>22.039246</td>\n",
       "    </tr>\n",
       "    <tr>\n",
       "      <th>584</th>\n",
       "      <td>25.412890</td>\n",
       "      <td>26.858876</td>\n",
       "    </tr>\n",
       "    <tr>\n",
       "      <th>947</th>\n",
       "      <td>17.200624</td>\n",
       "      <td>24.739342</td>\n",
       "    </tr>\n",
       "    <tr>\n",
       "      <th>780</th>\n",
       "      <td>26.482700</td>\n",
       "      <td>24.695693</td>\n",
       "    </tr>\n",
       "    <tr>\n",
       "      <th>1006</th>\n",
       "      <td>17.848409</td>\n",
       "      <td>24.627958</td>\n",
       "    </tr>\n",
       "    <tr>\n",
       "      <th>...</th>\n",
       "      <td>...</td>\n",
       "      <td>...</td>\n",
       "    </tr>\n",
       "    <tr>\n",
       "      <th>233</th>\n",
       "      <td>28.825131</td>\n",
       "      <td>28.577942</td>\n",
       "    </tr>\n",
       "    <tr>\n",
       "      <th>847</th>\n",
       "      <td>22.759887</td>\n",
       "      <td>22.609297</td>\n",
       "    </tr>\n",
       "    <tr>\n",
       "      <th>298</th>\n",
       "      <td>27.420512</td>\n",
       "      <td>28.932619</td>\n",
       "    </tr>\n",
       "    <tr>\n",
       "      <th>857</th>\n",
       "      <td>21.428471</td>\n",
       "      <td>24.893574</td>\n",
       "    </tr>\n",
       "    <tr>\n",
       "      <th>519</th>\n",
       "      <td>27.351298</td>\n",
       "      <td>29.068227</td>\n",
       "    </tr>\n",
       "  </tbody>\n",
       "</table>\n",
       "<p>218 rows × 2 columns</p>\n",
       "</div>"
      ],
      "text/plain": [
       "         Actual  Predicted\n",
       "811   22.870823  22.039246\n",
       "584   25.412890  26.858876\n",
       "947   17.200624  24.739342\n",
       "780   26.482700  24.695693\n",
       "1006  17.848409  24.627958\n",
       "...         ...        ...\n",
       "233   28.825131  28.577942\n",
       "847   22.759887  22.609297\n",
       "298   27.420512  28.932619\n",
       "857   21.428471  24.893574\n",
       "519   27.351298  29.068227\n",
       "\n",
       "[218 rows x 2 columns]"
      ]
     },
     "execution_count": 35,
     "metadata": {},
     "output_type": "execute_result"
    }
   ],
   "source": [
    "frame = pd.DataFrame({\"Actual\" : y_test , \"Predicted\" : pred})\n",
    "frame"
   ]
  },
  {
   "cell_type": "code",
   "execution_count": 36,
   "metadata": {},
   "outputs": [],
   "source": [
    "from sklearn.metrics import mean_absolute_error\n",
    "from sklearn.metrics import mean_squared_error\n",
    "import math"
   ]
  },
  {
   "cell_type": "code",
   "execution_count": 37,
   "metadata": {},
   "outputs": [
    {
     "name": "stdout",
     "output_type": "stream",
     "text": [
      "Mean Absoulte Error: 4.2722570066532155\n",
      "Mean Squared Error: 27.969316889142412\n",
      "Root Mean Squared Error: 5.288602545960739\n"
     ]
    }
   ],
   "source": [
    "print(\"Mean Absoulte Error:\",mean_absolute_error(y_test,pred))\n",
    "print(\"Mean Squared Error:\",mean_squared_error(y_test,pred))\n",
    "print(\"Root Mean Squared Error:\",math.sqrt(mean_squared_error(y_test,pred)))"
   ]
  },
  {
   "cell_type": "markdown",
   "metadata": {},
   "source": [
    "# Thank You !!!!!!!!!!"
   ]
  }
 ],
 "metadata": {
  "kernelspec": {
   "display_name": "Python 3",
   "language": "python",
   "name": "python3"
  },
  "language_info": {
   "codemirror_mode": {
    "name": "ipython",
    "version": 3
   },
   "file_extension": ".py",
   "mimetype": "text/x-python",
   "name": "python",
   "nbconvert_exporter": "python",
   "pygments_lexer": "ipython3",
   "version": "3.7.1"
  }
 },
 "nbformat": 4,
 "nbformat_minor": 2
}
